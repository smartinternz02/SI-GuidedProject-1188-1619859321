{
 "cells": [
  {
   "cell_type": "code",
   "execution_count": 1,
   "metadata": {},
   "outputs": [],
   "source": [
    "from tensorflow.keras.models import Sequential\n",
    "from tensorflow.keras.layers import Dense\n",
    "from tensorflow.keras.layers import Convolution2D\n",
    "from tensorflow.keras.layers import MaxPooling2D\n",
    "from tensorflow.keras.layers import Flatten\n"
   ]
  },
  {
   "cell_type": "code",
   "execution_count": 2,
   "metadata": {},
   "outputs": [],
   "source": [
    "from keras.preprocessing.image import ImageDataGenerator\n",
    "train_datagen= ImageDataGenerator(rescale=1./255,shear_range =0.2,zoom_range=0.2,horizontal_flip=True)\n",
    "test_datagen= ImageDataGenerator(rescale=1./255)"
   ]
  },
  {
   "cell_type": "code",
   "execution_count": 3,
   "metadata": {
    "scrolled": true
   },
   "outputs": [
    {
     "name": "stdout",
     "output_type": "stream",
     "text": [
      "Found 264 images belonging to 5 classes.\n",
      "Found 144 images belonging to 5 classes.\n"
     ]
    }
   ],
   "source": [
    "x_train = train_datagen.flow_from_directory(r\"C:\\Users\\ram krishna\\Downloads\\crop-things data\\crop-things data\\testset\",target_size = (64,64),batch_size = 32, class_mode =\"categorical\")\n",
    "x_test = test_datagen.flow_from_directory(r\"C:\\Users\\ram krishna\\Downloads\\crop-things data\\crop-things data\\trainset\",target_size = (64,64),batch_size = 32, class_mode =\"categorical\")"
   ]
  },
  {
   "cell_type": "code",
   "execution_count": 4,
   "metadata": {},
   "outputs": [],
   "source": [
    "model = Sequential()"
   ]
  },
  {
   "cell_type": "code",
   "execution_count": 5,
   "metadata": {},
   "outputs": [],
   "source": [
    "model.add(Convolution2D(32,(3,3), input_shape=(64,64,3),activation =\"relu\"))"
   ]
  },
  {
   "cell_type": "code",
   "execution_count": 6,
   "metadata": {},
   "outputs": [],
   "source": [
    "model.add(MaxPooling2D(2,2))"
   ]
  },
  {
   "cell_type": "code",
   "execution_count": 7,
   "metadata": {},
   "outputs": [],
   "source": [
    "model.add(Flatten())"
   ]
  },
  {
   "cell_type": "code",
   "execution_count": 8,
   "metadata": {
    "scrolled": true
   },
   "outputs": [],
   "source": [
    "model.add(Dense(units=512,activation=\"relu\",kernel_initializer = \"random_uniform\"))"
   ]
  },
  {
   "cell_type": "code",
   "execution_count": 9,
   "metadata": {},
   "outputs": [],
   "source": [
    "model.add(Dense(units=5,activation=\"softmax\",kernel_initializer = \"random_uniform\"))"
   ]
  },
  {
   "cell_type": "code",
   "execution_count": 10,
   "metadata": {},
   "outputs": [],
   "source": [
    "model.compile(\"sgd\",loss =\"categorical_crossentropy\",metrics=[\"accuracy\"])"
   ]
  },
  {
   "cell_type": "code",
   "execution_count": 17,
   "metadata": {},
   "outputs": [
    {
     "name": "stdout",
     "output_type": "stream",
     "text": [
      "Epoch 1/20\n",
      "8/8 [==============================] - ETA: 0s - loss: 0.7364 - accuracy: 0.6940WARNING:tensorflow:Your input ran out of data; interrupting training. Make sure that your dataset or generator can generate at least `steps_per_epoch * epochs` batches (in this case, 20 batches). You may need to use the repeat() function when building your dataset.\n",
      "8/8 [==============================] - 13s 2s/step - loss: 0.7364 - accuracy: 0.6940 - val_loss: 0.5966 - val_accuracy: 0.7778\n",
      "Epoch 2/20\n",
      "8/8 [==============================] - 6s 720ms/step - loss: 0.8332 - accuracy: 0.6250\n",
      "Epoch 3/20\n",
      "8/8 [==============================] - 7s 886ms/step - loss: 0.9307 - accuracy: 0.5603\n",
      "Epoch 4/20\n",
      "8/8 [==============================] - 6s 786ms/step - loss: 0.6910 - accuracy: 0.7371\n",
      "Epoch 5/20\n",
      "8/8 [==============================] - 6s 712ms/step - loss: 0.6863 - accuracy: 0.7069\n",
      "Epoch 6/20\n",
      "8/8 [==============================] - 7s 768ms/step - loss: 0.6752 - accuracy: 0.6953\n",
      "Epoch 7/20\n",
      "8/8 [==============================] - 7s 778ms/step - loss: 0.6912 - accuracy: 0.7188\n",
      "Epoch 8/20\n",
      "8/8 [==============================] - 6s 695ms/step - loss: 0.6227 - accuracy: 0.7629\n",
      "Epoch 9/20\n",
      "8/8 [==============================] - 6s 759ms/step - loss: 0.6105 - accuracy: 0.7457\n",
      "Epoch 10/20\n",
      "8/8 [==============================] - 6s 671ms/step - loss: 0.8393 - accuracy: 0.6810\n",
      "Epoch 11/20\n",
      "8/8 [==============================] - 6s 746ms/step - loss: 0.5959 - accuracy: 0.7586\n",
      "Epoch 12/20\n",
      "8/8 [==============================] - 6s 828ms/step - loss: 0.5433 - accuracy: 0.7974\n",
      "Epoch 13/20\n",
      "8/8 [==============================] - 6s 740ms/step - loss: 0.6111 - accuracy: 0.7457\n",
      "Epoch 14/20\n",
      "8/8 [==============================] - 6s 845ms/step - loss: 0.5959 - accuracy: 0.7198\n",
      "Epoch 15/20\n",
      "8/8 [==============================] - 6s 750ms/step - loss: 0.5052 - accuracy: 0.8147\n",
      "Epoch 16/20\n",
      "8/8 [==============================] - 7s 799ms/step - loss: 0.4873 - accuracy: 0.8017\n",
      "Epoch 17/20\n",
      "8/8 [==============================] - 6s 679ms/step - loss: 0.4574 - accuracy: 0.8319\n",
      "Epoch 18/20\n",
      "8/8 [==============================] - 8s 951ms/step - loss: 0.4759 - accuracy: 0.8190\n",
      "Epoch 19/20\n",
      "8/8 [==============================] - 6s 635ms/step - loss: 0.4151 - accuracy: 0.8405\n",
      "Epoch 20/20\n",
      "8/8 [==============================] - 7s 766ms/step - loss: 0.5255 - accuracy: 0.7586\n"
     ]
    },
    {
     "data": {
      "text/plain": [
       "<tensorflow.python.keras.callbacks.History at 0x1f1313b9a58>"
      ]
     },
     "execution_count": 17,
     "metadata": {},
     "output_type": "execute_result"
    }
   ],
   "source": [
    "model.fit_generator(x_train,steps_per_epoch=8 ,epochs=20,validation_data= x_test, validation_steps =20)"
   ]
  },
  {
   "cell_type": "code",
   "execution_count": 18,
   "metadata": {},
   "outputs": [],
   "source": [
    "model.save(\"things.h5\")"
   ]
  },
  {
   "cell_type": "code",
   "execution_count": 19,
   "metadata": {},
   "outputs": [
    {
     "data": {
      "text/plain": [
       "'E:\\\\geethajali'"
      ]
     },
     "execution_count": 19,
     "metadata": {},
     "output_type": "execute_result"
    }
   ],
   "source": [
    "pwd\n"
   ]
  },
  {
   "cell_type": "code",
   "execution_count": null,
   "metadata": {},
   "outputs": [],
   "source": []
  }
 ],
 "metadata": {
  "kernelspec": {
   "display_name": "Python 3",
   "language": "python",
   "name": "python3"
  },
  "language_info": {
   "codemirror_mode": {
    "name": "ipython",
    "version": 3
   },
   "file_extension": ".py",
   "mimetype": "text/x-python",
   "name": "python",
   "nbconvert_exporter": "python",
   "pygments_lexer": "ipython3",
   "version": "3.7.3"
  }
 },
 "nbformat": 4,
 "nbformat_minor": 2
}
